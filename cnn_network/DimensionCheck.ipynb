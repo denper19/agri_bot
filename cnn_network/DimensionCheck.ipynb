{
 "cells": [
  {
   "cell_type": "code",
   "execution_count": 4,
   "metadata": {},
   "outputs": [],
   "source": [
    "import cv2\n",
    "import numpy as np\n",
    "import os\n",
    "import matplotlib.pyplot as plt\n",
    "import matplotlib.image as mpimg"
   ]
  },
  {
   "cell_type": "code",
   "execution_count": 21,
   "metadata": {},
   "outputs": [],
   "source": [
    "img_folder=r'C:\\Users\\Kabir\\Downloads\\archive(1)\\PlantDoc-Dataset\\train'\n",
    "for dir1 in os.listdir(img_folder):\n",
    "    for file in os.listdir(os.path.join(img_folder, dir1)):\n",
    "       \n",
    "        image_path= os.path.join(img_folder, dir1,  file)\n",
    "        image= cv2.imread( image_path, cv2.COLOR_BGR2RGB)\n",
    "        arraylen = len(image.shape)\n",
    "        if arraylen == 2:\n",
    "            print(image_path)\n",
    "        "
   ]
  }
 ],
 "metadata": {
  "kernelspec": {
   "display_name": "venv2",
   "language": "python",
   "name": "python3"
  },
  "language_info": {
   "codemirror_mode": {
    "name": "ipython",
    "version": 3
   },
   "file_extension": ".py",
   "mimetype": "text/x-python",
   "name": "python",
   "nbconvert_exporter": "python",
   "pygments_lexer": "ipython3",
   "version": "3.10.5"
  }
 },
 "nbformat": 4,
 "nbformat_minor": 2
}
